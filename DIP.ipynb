{
 "cells": [
  {
   "cell_type": "code",
   "execution_count": 1,
   "metadata": {},
   "outputs": [],
   "source": [
    "#filpping an image\n",
    "from PIL import Image\n",
    "def image_flip(img):\n",
    "    imageObject = Image.open(\"image.jpg\")\n",
    "\n",
    "\n",
    "\n",
    "#orginal image \n",
    "    imageObject.show()\n",
    "\n",
    "# flipping vertically\n",
    "    hori_flippedImage = imageObject.transpose(Image.FLIP_LEFT_RIGHT)\n",
    "\n",
    "\n",
    "# Showing the image \n",
    "    Vert_flippedImage = imageObject.transpose(Image.FLIP_TOP_BOTTOM)\n",
    "    return Vert_flippedImage.show()\n",
    "img = Image.open('image.jpg')\n",
    "image_flip(img)"
   ]
  },
  {
   "cell_type": "code",
   "execution_count": 21,
   "metadata": {},
   "outputs": [
    {
     "data": {
      "text/plain": [
       "-1"
      ]
     },
     "execution_count": 21,
     "metadata": {},
     "output_type": "execute_result"
    }
   ],
   "source": [
    "# bit plane slicing\n",
    "\n",
    "import cv2 \n",
    "import numpy as np\n",
    "\n",
    "def image_slicing(img):\n",
    "\n",
    "    img = cv2.imread('image.jpg', 0) \n",
    "\n",
    "    out = []\n",
    "\n",
    "    for k in range(0, 7):\n",
    "    # create an image for each k bit plane\n",
    "        plane = np.full((img.shape[0], img.shape[1]), 2 ** k, np.uint8)\n",
    "    # execute bitwise and operation\n",
    "        res = cv2.bitwise_and(plane, img)\n",
    "    # multiply ones (bit plane sliced) with 255 just for better visualization\n",
    "        x = res * 255\n",
    "    # append to the output list\n",
    "        out.append(x)\n",
    "\n",
    "    cv2.imshow(\"bit plane\", np.hstack(out))\n",
    "    return cv2.waitKey()\n",
    "img = Image.open('image.jpg')\n",
    "image_slicing(img)"
   ]
  },
  {
   "cell_type": "code",
   "execution_count": null,
   "metadata": {},
   "outputs": [],
   "source": []
  },
  {
   "cell_type": "code",
   "execution_count": 48,
   "metadata": {},
   "outputs": [
    {
     "name": "stdout",
     "output_type": "stream",
     "text": [
      "uint8\n"
     ]
    },
    {
     "data": {
      "text/plain": [
       "-1"
      ]
     },
     "execution_count": 48,
     "metadata": {},
     "output_type": "execute_result"
    }
   ],
   "source": [
    "#negative-image\n",
    "import cv2\n",
    "import numpy as np\n",
    "\n",
    "def image_negative(img):\n",
    "    img = cv2.imread('image.jpg')\n",
    "\n",
    "    print(img.dtype)\n",
    "\n",
    "    img_neg = 255 - img\n",
    "\n",
    "    cv2.imshow('negative',img_neg)\n",
    "    return cv2.waitKey(0)\n",
    "image_negative(img)\n",
    "\n"
   ]
  },
  {
   "cell_type": "code",
   "execution_count": 3,
   "metadata": {},
   "outputs": [
    {
     "data": {
      "text/plain": [
       "-1"
      ]
     },
     "execution_count": 3,
     "metadata": {},
     "output_type": "execute_result"
    }
   ],
   "source": []
  },
  {
   "cell_type": "code",
   "execution_count": 25,
   "metadata": {},
   "outputs": [
    {
     "name": "stdout",
     "output_type": "stream",
     "text": [
      "42.658349229057386\n"
     ]
    }
   ],
   "source": [
    "\n",
    "#contrast by using defination of avergae pixel difference\n",
    "import numpy as np\n",
    "from PIL import Image\n",
    "\n",
    "\n",
    "def image_contrast(img):\n",
    "\n",
    "\n",
    "    im = Image.open('image.jpg')\n",
    "    im_grey = im.convert('LA') \n",
    "    width, height = im.size\n",
    "\n",
    "    total = 0\n",
    "    for i in range(0, width):\n",
    "        for j in range(0, height):\n",
    "            total += im_grey.getpixel((i,j))[0]\n",
    "\n",
    "    mean = total / (width * height)\n",
    "    return print(mean)\n",
    "img = Image.open('image.jpg')\n",
    "image_contrast(img)\n",
    "\n"
   ]
  },
  {
   "cell_type": "code",
   "execution_count": 28,
   "metadata": {},
   "outputs": [
    {
     "data": {
      "text/plain": [
       "-1"
      ]
     },
     "execution_count": 28,
     "metadata": {},
     "output_type": "execute_result"
    }
   ],
   "source": [
    "#power law transformation \n",
    "\n",
    "import numpy as np\n",
    "import cv2\n",
    "\n",
    "def image_log_trans(img):\n",
    "    img = cv2.imread('image.jpg')\n",
    "\n",
    "    gamma_two_point_two = np.array(255*(img/255)**2.2,dtype='uint8')\n",
    "\n",
    "    gamma_point_four = np.array(255*(img/255)**0.4,dtype='uint8')\n",
    "\n",
    "    img3 = cv2.hconcat([gamma_two_point_two,gamma_point_four])\n",
    "    cv2.imshow('a2',img3)\n",
    "    return cv2.waitKey(0)\n",
    "img = Image.open('image.jpg')\n",
    "image_log_trans(img)"
   ]
  },
  {
   "cell_type": "code",
   "execution_count": 7,
   "metadata": {},
   "outputs": [
    {
     "data": {
      "text/plain": [
       "-1"
      ]
     },
     "execution_count": 7,
     "metadata": {},
     "output_type": "execute_result"
    }
   ],
   "source": [
    "#contrast stretching \n",
    "import numpy as np\n",
    "import cv2\n",
    "\n",
    "def image_streching(img):\n",
    "    img1 = cv2.imread('image.jpg',0)\n",
    " \n",
    "\n",
    "    minmax_img = np.zeros((img1.shape[0],img1.shape[1]),dtype = 'uint8')\n",
    "\n",
    "    for i in range(img1.shape[0]):\n",
    "        for j in range(img1.shape[1]):\n",
    "            minmax_img[i,j] = 255*(img1[i,j]-np.min(img1))/(np.max(img1)-np.min(img1))\n",
    " \n",
    "\n",
    "    cv2.imshow('Minmax',minmax_img)\n",
    "    return cv2.waitKey(0)\n",
    "img = Image.open('image.jpg')\n",
    "image_streching(img)"
   ]
  },
  {
   "cell_type": "code",
   "execution_count": 12,
   "metadata": {},
   "outputs": [
    {
     "data": {
      "text/plain": [
       "4.145604519739353"
      ]
     },
     "execution_count": 12,
     "metadata": {},
     "output_type": "execute_result"
    }
   ],
   "source": [
    "#entropy\n",
    "\n",
    "from PIL import Image\n",
    "import math\n",
    " \n",
    "def image_entropy(img):\n",
    "    \"\"\"calculate the entropy of an image\"\"\"\n",
    "    histogram = img.histogram()\n",
    "    histogram_length = sum(histogram)\n",
    " \n",
    "    samples_probability = [float(h) / histogram_length for h in histogram]\n",
    " \n",
    "    return -sum([p * math.log(p, 2) for p in samples_probability if p != 0])\n",
    " \n",
    "img = Image.open('image.jpg')\n",
    "image_entropy(img)"
   ]
  },
  {
   "cell_type": "code",
   "execution_count": 45,
   "metadata": {},
   "outputs": [],
   "source": [
    "# thresholding \n",
    "import cv2  \n",
    "import numpy as np  \n",
    " \n",
    "\n",
    "def image_thres(img):\n",
    "    \n",
    "    image1 = cv2.imread('image.jpg')  \n",
    " \n",
    "    img = cv2.cvtColor(image1, cv2.COLOR_BGR2GRAY) \n",
    " \n",
    "    ret, thresh1 = cv2.threshold(img, 50, 255, cv2.THRESH_BINARY) \n",
    "\n",
    "    cv2.imshow('Thresholding', thresh1) \n",
    "\n",
    "\n",
    "    \n",
    "# De-allocate any associated memory usage   \n",
    "    if cv2.waitKey(0) & 0xff == 27:  \n",
    "        return cv2.destroyAllWindows()  \n",
    "image_thres(img)"
   ]
  },
  {
   "cell_type": "code",
   "execution_count": 47,
   "metadata": {},
   "outputs": [
    {
     "name": "stdout",
     "output_type": "stream",
     "text": [
      "uint8\n"
     ]
    },
    {
     "data": {
      "text/plain": [
       "-1"
      ]
     },
     "execution_count": 47,
     "metadata": {},
     "output_type": "execute_result"
    }
   ],
   "source": []
  },
  {
   "cell_type": "code",
   "execution_count": null,
   "metadata": {},
   "outputs": [],
   "source": []
  }
 ],
 "metadata": {
  "kernelspec": {
   "display_name": "Python 3",
   "language": "python",
   "name": "python3"
  },
  "language_info": {
   "codemirror_mode": {
    "name": "ipython",
    "version": 3
   },
   "file_extension": ".py",
   "mimetype": "text/x-python",
   "name": "python",
   "nbconvert_exporter": "python",
   "pygments_lexer": "ipython3",
   "version": "3.6.9"
  }
 },
 "nbformat": 4,
 "nbformat_minor": 4
}
